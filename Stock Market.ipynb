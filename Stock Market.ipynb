{
 "cells": [
  {
   "cell_type": "markdown",
   "metadata": {
    "colab_type": "text",
    "hideCode": false,
    "hidePrompt": false,
    "id": "h5Du0q-SQ3Be"
   },
   "source": [
    "# Setup\n",
    "## Import Statements \n",
    "The import statements and setup function required to run this program are located below."
   ]
  },
  {
   "cell_type": "code",
   "execution_count": 4,
   "metadata": {
    "ExecuteTime": {
     "end_time": "2020-02-03T23:37:41.585263Z",
     "start_time": "2020-02-03T23:37:41.468325Z"
    }
   },
   "outputs": [],
   "source": [
    "import pandas as pd\n",
    "import pandas_datareader.data as web\n",
    "from datetime import datetime, timedelta\n",
    "\n",
    "import ipywidgets as widgets\n",
    "from ipywidgets import interact, interact_manual\n",
    "from IPython.display import Javascript, display\n",
    "import ipython_blocking\n",
    "\n",
    "import matplotlib.pyplot as plt\n",
    "%matplotlib inline\n",
    "\n",
    "import plotly.offline as py\n",
    "py.init_notebook_mode(connected=False)\n",
    "import plotly.express as px \n",
    "import plotly.graph_objects as go\n",
    "from plotly.subplots import make_subplots"
   ]
  },
  {
   "cell_type": "markdown",
   "metadata": {
    "colab_type": "text",
    "hideCode": false,
    "hideOutput": false,
    "hidePrompt": false,
    "id": "84ZC8w-oQ3CT"
   },
   "source": [
    "## User Input\n",
    "Below, the user should input the following information:\n",
    "\n",
    "* Start Date - the date at which you would like to start the stock analysis\n",
    "* End Date - the date at which you would like to end the stock analysis\n",
    "* Stock Ticker - the symbol used to identify a stock or cryptocurrency (e.g. TSLA, BRK-B, BTC-USD)\n",
    "\n",
    "Only the stock ticker is a required field.\n",
    "\n",
    "The code will resume once the Start button is clicked."
   ]
  },
  {
   "cell_type": "code",
   "execution_count": 15,
   "metadata": {
    "ExecuteTime": {
     "end_time": "2020-02-03T23:37:45.854797Z",
     "start_time": "2020-02-03T23:37:45.749859Z"
    },
    "colab": {
     "base_uri": "https://localhost:8080/",
     "height": 145,
     "referenced_widgets": [
      "4b591f01a85849aaae3e9153b5df0b86",
      "9197a173892e4c2f8a1e3ac828988794",
      "17a4c5677477424ca0a1dfa70b2ee7df",
      "e9477a3098d94a42a2c76376f6f2f255",
      "824bc9a49de9495683be889a3e8fbf89",
      "b3079d2123dd49f0bd203501a5f35459",
      "9250ec381d2545f4b8bc1dc2ea8a42ef",
      "1372ebebbba8413aa97bfc44d7e69d0c",
      "6a35db343d5c440fbfa065d7d2da9dc3",
      "fcc886afe4ae46b9a7d4b1f8337f9d02",
      "63f3847934674be29849242a20900e13",
      "f9468813f6294c9fa1759aeab39ebbfc",
      "3fb9556609c9483282970704459f0c15",
      "26e56eff01cb4730aa02de37b449a6d3"
     ]
    },
    "colab_type": "code",
    "executionInfo": {
     "elapsed": 412,
     "status": "ok",
     "timestamp": 1579546085704,
     "user": {
      "displayName": "Neel Shah",
      "photoUrl": "",
      "userId": "01848327880699537234"
     },
     "user_tz": 300
    },
    "hideCode": false,
    "hideOutput": false,
    "hidePrompt": false,
    "id": "Jn56NeNKQ3CW",
    "outputId": "eec690d4-6c97-4381-8201-b037b0eb83d1"
   },
   "outputs": [
    {
     "data": {
      "application/vnd.jupyter.widget-view+json": {
       "model_id": "85dc9115186943b282ddbea04d6c8ee8",
       "version_major": 2,
       "version_minor": 0
      },
      "text/plain": [
       "VBox(children=(DatePicker(value=None, description='Start Date'), DatePicker(value=None, description='End Date'…"
      ]
     },
     "metadata": {},
     "output_type": "display_data"
    }
   ],
   "source": [
    "start = widgets.DatePicker(description = 'Start Date')\n",
    "end = widgets.DatePicker(description = 'End Date')\n",
    "ticker = widgets.Text(description = \"Stock Ticker\")\n",
    "button = widgets.Button(description = 'Start')\n",
    "box = widgets.VBox(children = [start, end, ticker, button])\n",
    "box\n",
    "!pip install IPython"
   ]
  },
  {
   "cell_type": "code",
   "execution_count": null,
   "metadata": {
    "ExecuteTime": {
     "start_time": "2020-02-03T23:34:26.856Z"
    },
    "colab": {},
    "colab_type": "code",
    "hideCode": false,
    "hidePrompt": false,
    "id": "dX8xTdC0Q3Ch"
   },
   "outputs": [],
   "source": [
    "%blockrun button"
   ]
  },
  {
   "cell_type": "markdown",
   "metadata": {
    "colab_type": "text",
    "hideCode": false,
    "hidePrompt": false,
    "id": "jpX4rNxWQ3Co"
   },
   "source": [
    "# Data\n",
    "## Read Data\n",
    "The code below uses pandas-datareader to get information about the selected stock from Yahoo Finance."
   ]
  },
  {
   "cell_type": "code",
   "execution_count": null,
   "metadata": {
    "ExecuteTime": {
     "end_time": "2020-02-03T23:39:17.970497Z",
     "start_time": "2020-02-03T23:39:14.616345Z"
    },
    "colab": {
     "base_uri": "https://localhost:8080/",
     "height": 419
    },
    "colab_type": "code",
    "executionInfo": {
     "elapsed": 943,
     "status": "ok",
     "timestamp": 1579546095021,
     "user": {
      "displayName": "Neel Shah",
      "photoUrl": "",
      "userId": "01848327880699537234"
     },
     "user_tz": 300
    },
    "hideCode": false,
    "hidePrompt": false,
    "id": "Ftruj7nHQ3Cq",
    "outputId": "56396c50-a3a8-4c28-fcd1-11aa83b7172f",
    "scrolled": false
   },
   "outputs": [],
   "source": [
    "stock = web.DataReader(ticker.value, 'yahoo', start.value, end.value).reset_index()\n",
    "stock = round(stock, 2)\n",
    "stock"
   ]
  },
  {
   "cell_type": "markdown",
   "metadata": {
    "colab_type": "text",
    "hideCode": false,
    "hidePrompt": false,
    "id": "aFnaQR8cQ3Cy"
   },
   "source": [
    "## Calculate Percent Change\n",
    "The code below calculates the percent change in the stock price each day."
   ]
  },
  {
   "cell_type": "code",
   "execution_count": null,
   "metadata": {
    "ExecuteTime": {
     "end_time": "2020-02-03T23:39:20.678692Z",
     "start_time": "2020-02-03T23:39:17.977491Z"
    },
    "colab": {},
    "colab_type": "code",
    "hideCode": false,
    "hidePrompt": false,
    "id": "zSTRndkpQ3C0"
   },
   "outputs": [],
   "source": [
    "stock['Pct Change'] = stock['Close'].pct_change() * 100"
   ]
  },
  {
   "cell_type": "markdown",
   "metadata": {
    "colab_type": "text",
    "hideCode": false,
    "hidePrompt": false,
    "id": "lxOzsL-hQ3C8"
   },
   "source": [
    "## Calculate Moving Averages\n",
    "The code below calculates the average stock price over the past 200 days (MA200) and past 50 days (MA50)."
   ]
  },
  {
   "cell_type": "code",
   "execution_count": null,
   "metadata": {
    "ExecuteTime": {
     "end_time": "2020-02-03T23:39:20.844579Z",
     "start_time": "2020-02-03T23:39:20.684678Z"
    },
    "colab": {},
    "colab_type": "code",
    "hideCode": false,
    "hidePrompt": false,
    "id": "J18LkHbsQ3C-"
   },
   "outputs": [],
   "source": [
    "for i in {200, 50}:\n",
    "    stock[\"MA{}\".format(i)] = stock['Close'].rolling(window = i).mean()"
   ]
  },
  {
   "cell_type": "markdown",
   "metadata": {
    "colab_type": "text",
    "hideCode": false,
    "hidePrompt": false,
    "id": "bsr3mk0qQ3DH"
   },
   "source": [
    "## Calculate Relative Strength Index (RSI)\n",
    "<span class=\"mark\">TODO: Explain</span>"
   ]
  },
  {
   "cell_type": "code",
   "execution_count": null,
   "metadata": {
    "ExecuteTime": {
     "end_time": "2020-02-03T23:39:21.661195Z",
     "start_time": "2020-02-03T23:39:20.850573Z"
    },
    "colab": {},
    "colab_type": "code",
    "hideCode": false,
    "hidePrompt": false,
    "id": "OTzXRAcnQ3DK"
   },
   "outputs": [],
   "source": [
    "stock['Change'] = stock['Close'].diff()\n",
    "\n",
    "stock['Up'] = stock['Change'].copy()\n",
    "stock.loc[stock['Change'] <= 0.0, 'Up'] = 0.0\n",
    "\n",
    "stock['Down'] = stock['Change'].copy()\n",
    "stock.loc[stock['Change'] >= 0.0, 'Down'] = 0.0\n",
    "stock['Down'] = abs(stock['Down'])\n",
    "\n",
    "stock['RS'] = stock['Up'].rolling(window = 14).mean() / stock['Down'].rolling(window = 14).mean()\n",
    "stock['RSI'] = 100 - (100 / (1 + stock['RS']))"
   ]
  },
  {
   "cell_type": "markdown",
   "metadata": {
    "colab_type": "text",
    "hideCode": false,
    "hidePrompt": false,
    "id": "2BVN9cjWQ3DN"
   },
   "source": [
    "## Display Data/Calculations\n",
    "The code below displays the retrieved stock data and all of the calculations done."
   ]
  },
  {
   "cell_type": "code",
   "execution_count": null,
   "metadata": {
    "ExecuteTime": {
     "end_time": "2020-02-03T23:39:25.879912Z",
     "start_time": "2020-02-03T23:39:21.665193Z"
    },
    "colab": {
     "base_uri": "https://localhost:8080/",
     "height": 419
    },
    "colab_type": "code",
    "executionInfo": {
     "elapsed": 356,
     "status": "ok",
     "timestamp": 1579546116750,
     "user": {
      "displayName": "Neel Shah",
      "photoUrl": "",
      "userId": "01848327880699537234"
     },
     "user_tz": 300
    },
    "hideCode": false,
    "hidePrompt": false,
    "id": "4QYWEZKLQ3DP",
    "outputId": "0f3a2c16-87bd-42fe-f5f7-ce063d4e579b"
   },
   "outputs": [],
   "source": [
    "stock = round(stock, 2)\n",
    "stock"
   ]
  },
  {
   "cell_type": "markdown",
   "metadata": {
    "colab_type": "text",
    "hideCode": false,
    "hidePrompt": false,
    "id": "q-IVMSUqQ3DV"
   },
   "source": [
    "# Graphs\n",
    "## Candlestick\n",
    "The interactive candlestick graph below shows the daily variation in stock price. The boxes represent the spread between opening and closing prices, while the lines represent the spread between the low and high prices for each day."
   ]
  },
  {
   "cell_type": "code",
   "execution_count": null,
   "metadata": {
    "ExecuteTime": {
     "start_time": "2020-02-03T23:39:14.646Z"
    },
    "colab": {
     "base_uri": "https://localhost:8080/",
     "height": 542
    },
    "colab_type": "code",
    "executionInfo": {
     "elapsed": 1473,
     "status": "ok",
     "timestamp": 1579546122205,
     "user": {
      "displayName": "Neel Shah",
      "photoUrl": "",
      "userId": "01848327880699537234"
     },
     "user_tz": 300
    },
    "hideCode": false,
    "hidePrompt": false,
    "id": "gJ7Oo6GcQ3DW",
    "outputId": "59fa2bd4-ca82-4384-887d-ddad9ead7324"
   },
   "outputs": [],
   "source": [
    "fig = go.Figure(data = [go.Candlestick(x = stock['Date'],\n",
    "               open = stock['Open'],\n",
    "               high = stock['High'],\n",
    "               low = stock['Low'],\n",
    "               close = stock['Close'])])\n",
    "fig.update_layout(title_text = 'Candlestick', \n",
    "                  xaxis_title = 'Date',\n",
    "                  yaxis_title = 'Price',\n",
    "                  xaxis_rangeslider_visible = True)\n",
    "fig.show()"
   ]
  },
  {
   "cell_type": "markdown",
   "metadata": {
    "colab_type": "text",
    "hideCode": false,
    "hidePrompt": false,
    "id": "bQgiVy-dQ3DZ"
   },
   "source": [
    "## Moving Average Convergence Divergence (MACD)\n",
    "The interactive line graph below shows the closing price, the 200-day moving average, and the 50-day moving average for the stock. Moving averages show what is hapenning to the price of a stock (on average) over time:\n",
    "* A buy signal occurs when the 50-day moving average crosses above the 200-day moving average.\n",
    "* A sell signal occurs when the 50-day moving average drops below the 200-day moving average."
   ]
  },
  {
   "cell_type": "code",
   "execution_count": null,
   "metadata": {
    "ExecuteTime": {
     "start_time": "2020-02-03T23:39:14.650Z"
    },
    "colab": {
     "base_uri": "https://localhost:8080/",
     "height": 542
    },
    "colab_type": "code",
    "executionInfo": {
     "elapsed": 976,
     "status": "ok",
     "timestamp": 1579546130769,
     "user": {
      "displayName": "Neel Shah",
      "photoUrl": "",
      "userId": "01848327880699537234"
     },
     "user_tz": 300
    },
    "hideCode": false,
    "hidePrompt": false,
    "id": "xOtuKr_yQ3Da",
    "outputId": "a6c77805-3aeb-4239-a2e0-9f96a44dd3c9"
   },
   "outputs": [],
   "source": [
    "fig = go.Figure()\n",
    "fig.add_trace(go.Scatter(x = stock['Date'], y = stock['Close'], name = 'Closing Price'))\n",
    "fig.add_trace(go.Scatter(x = stock['Date'], y = stock['MA200'], name = '200-Day Moving Average'))\n",
    "fig.add_trace(go.Scatter(x = stock['Date'], y = stock['MA50'], name = '50-Day Moving Average'))\n",
    "fig.update_layout(title_text = 'Moving Average Convergence Divergence (MACD)', \n",
    "                  xaxis_title = 'Date',\n",
    "                  yaxis_title = 'Price',\n",
    "                  xaxis_rangeslider_visible = True)\n",
    "fig.show()"
   ]
  },
  {
   "cell_type": "markdown",
   "metadata": {
    "colab_type": "text",
    "hideCode": false,
    "hidePrompt": false,
    "id": "ge60FxTsQ3Dg"
   },
   "source": [
    "The code below uses moving averages to indicate that the stock should potentially either be bought or sold (at the end date specified above):\n",
    "* If the 50-day moving average is greater than the 200-day moving average, it tells you to buy.\n",
    "* Otherwise, it tells you to sell."
   ]
  },
  {
   "cell_type": "code",
   "execution_count": null,
   "metadata": {
    "ExecuteTime": {
     "start_time": "2020-02-03T23:39:14.655Z"
    },
    "colab": {
     "base_uri": "https://localhost:8080/",
     "height": 34
    },
    "colab_type": "code",
    "executionInfo": {
     "elapsed": 279,
     "status": "ok",
     "timestamp": 1579546136008,
     "user": {
      "displayName": "Neel Shah",
      "photoUrl": "",
      "userId": "01848327880699537234"
     },
     "user_tz": 300
    },
    "hideCode": false,
    "hidePrompt": false,
    "id": "aVXdL9a3Q3Dj",
    "outputId": "f44c0feb-6852-48ba-d93e-c7c257eaee94"
   },
   "outputs": [],
   "source": [
    "ma200 = stock.iloc[-1]['MA200']\n",
    "ma50 = stock.iloc[-1]['MA50']\n",
    "if ma50 > ma200:\n",
    "    print('Buy Candidate')\n",
    "else:\n",
    "    print('Sell Candidate')"
   ]
  },
  {
   "cell_type": "markdown",
   "metadata": {
    "colab_type": "text",
    "hideCode": false,
    "hidePrompt": false,
    "id": "hnvvqIEhQ3Dr"
   },
   "source": [
    "## Relative Strength Index (RSI)"
   ]
  },
  {
   "cell_type": "code",
   "execution_count": null,
   "metadata": {
    "ExecuteTime": {
     "start_time": "2020-02-03T23:39:14.660Z"
    },
    "cell_style": "center",
    "colab": {
     "base_uri": "https://localhost:8080/",
     "height": 542
    },
    "colab_type": "code",
    "executionInfo": {
     "elapsed": 742,
     "status": "ok",
     "timestamp": 1579546139384,
     "user": {
      "displayName": "Neel Shah",
      "photoUrl": "",
      "userId": "01848327880699537234"
     },
     "user_tz": 300
    },
    "hideCode": false,
    "hidePrompt": false,
    "id": "IiKoR7hYQ3Dt",
    "outputId": "bdfb1e7d-de91-433f-d8db-bb2ab8e60bb8"
   },
   "outputs": [],
   "source": [
    "fig = go.Figure()\n",
    "fig.add_trace(go.Scatter(x = stock['Date'], y = stock['Close'], name = 'Closing Price'))\n",
    "fig.add_trace(go.Scatter(x = stock['Date'], y = stock['RSI'], name = 'Relative Strength Index'))\n",
    "fig.update_layout(title_text = 'Relative Strength Index (RSI)', \n",
    "                  xaxis_title = 'Date',\n",
    "                  yaxis_title = 'Price',\n",
    "                  xaxis_rangeslider_visible = True)\n",
    "fig.show()"
   ]
  }
 ],
 "metadata": {
  "colab": {
   "name": "Stock Market.ipynb",
   "provenance": [],
   "toc_visible": true
  },
  "hide_code_all_hidden": false,
  "hide_input": false,
  "kernel_info": {
   "name": "python3"
  },
  "kernelspec": {
   "display_name": "Python 3",
   "language": "python",
   "name": "python3"
  },
  "language_info": {
   "codemirror_mode": {
    "name": "ipython",
    "version": 3
   },
   "file_extension": ".py",
   "mimetype": "text/x-python",
   "name": "python",
   "nbconvert_exporter": "python",
   "pygments_lexer": "ipython3",
   "version": "3.7.4"
  },
  "nteract": {
   "version": "0.15.0"
  },
  "toc": {
   "base_numbering": 1,
   "nav_menu": {
    "height": "280px",
    "width": "364px"
   },
   "number_sections": true,
   "sideBar": true,
   "skip_h1_title": false,
   "title_cell": "Table of Contents",
   "title_sidebar": "Contents",
   "toc_cell": false,
   "toc_position": {
    "height": "calc(100% - 180px)",
    "left": "10px",
    "top": "150px",
    "width": "380.594px"
   },
   "toc_section_display": true,
   "toc_window_display": true
  },
  "varInspector": {
   "cols": {
    "lenName": 16,
    "lenType": 16,
    "lenVar": 40
   },
   "kernels_config": {
    "python": {
     "delete_cmd_postfix": "",
     "delete_cmd_prefix": "del ",
     "library": "var_list.py",
     "varRefreshCmd": "print(var_dic_list())"
    },
    "r": {
     "delete_cmd_postfix": ") ",
     "delete_cmd_prefix": "rm(",
     "library": "var_list.r",
     "varRefreshCmd": "cat(var_dic_list()) "
    }
   },
   "position": {
    "height": "433px",
    "left": "1538px",
    "right": "20px",
    "top": "139px",
    "width": "360px"
   },
   "types_to_exclude": [
    "module",
    "function",
    "builtin_function_or_method",
    "instance",
    "_Feature"
   ],
   "window_display": true
  },
  "widgets": {
   "application/vnd.jupyter.widget-state+json": {
    "1372ebebbba8413aa97bfc44d7e69d0c": {
     "model_module": "@jupyter-widgets/base",
     "model_name": "LayoutModel",
     "state": {
      "_model_module": "@jupyter-widgets/base",
      "_model_module_version": "1.2.0",
      "_model_name": "LayoutModel",
      "_view_count": null,
      "_view_module": "@jupyter-widgets/base",
      "_view_module_version": "1.2.0",
      "_view_name": "LayoutView",
      "align_content": null,
      "align_items": null,
      "align_self": null,
      "border": null,
      "bottom": null,
      "display": null,
      "flex": null,
      "flex_flow": null,
      "grid_area": null,
      "grid_auto_columns": null,
      "grid_auto_flow": null,
      "grid_auto_rows": null,
      "grid_column": null,
      "grid_gap": null,
      "grid_row": null,
      "grid_template_areas": null,
      "grid_template_columns": null,
      "grid_template_rows": null,
      "height": null,
      "justify_content": null,
      "justify_items": null,
      "left": null,
      "margin": null,
      "max_height": null,
      "max_width": null,
      "min_height": null,
      "min_width": null,
      "object_fit": null,
      "object_position": null,
      "order": null,
      "overflow": null,
      "overflow_x": null,
      "overflow_y": null,
      "padding": null,
      "right": null,
      "top": null,
      "visibility": null,
      "width": null
     }
    },
    "17a4c5677477424ca0a1dfa70b2ee7df": {
     "model_module": "@jupyter-widgets/controls",
     "model_name": "DatePickerModel",
     "state": {
      "_dom_classes": [],
      "_model_module": "@jupyter-widgets/controls",
      "_model_module_version": "1.5.0",
      "_model_name": "DatePickerModel",
      "_view_count": null,
      "_view_module": "@jupyter-widgets/controls",
      "_view_module_version": "1.5.0",
      "_view_name": "DatePickerView",
      "description": "Start Date",
      "description_tooltip": null,
      "disabled": false,
      "layout": "IPY_MODEL_1372ebebbba8413aa97bfc44d7e69d0c",
      "style": "IPY_MODEL_9250ec381d2545f4b8bc1dc2ea8a42ef",
      "value": null
     }
    },
    "26e56eff01cb4730aa02de37b449a6d3": {
     "model_module": "@jupyter-widgets/base",
     "model_name": "LayoutModel",
     "state": {
      "_model_module": "@jupyter-widgets/base",
      "_model_module_version": "1.2.0",
      "_model_name": "LayoutModel",
      "_view_count": null,
      "_view_module": "@jupyter-widgets/base",
      "_view_module_version": "1.2.0",
      "_view_name": "LayoutView",
      "align_content": null,
      "align_items": null,
      "align_self": null,
      "border": null,
      "bottom": null,
      "display": null,
      "flex": null,
      "flex_flow": null,
      "grid_area": null,
      "grid_auto_columns": null,
      "grid_auto_flow": null,
      "grid_auto_rows": null,
      "grid_column": null,
      "grid_gap": null,
      "grid_row": null,
      "grid_template_areas": null,
      "grid_template_columns": null,
      "grid_template_rows": null,
      "height": null,
      "justify_content": null,
      "justify_items": null,
      "left": null,
      "margin": null,
      "max_height": null,
      "max_width": null,
      "min_height": null,
      "min_width": null,
      "object_fit": null,
      "object_position": null,
      "order": null,
      "overflow": null,
      "overflow_x": null,
      "overflow_y": null,
      "padding": null,
      "right": null,
      "top": null,
      "visibility": null,
      "width": null
     }
    },
    "3fb9556609c9483282970704459f0c15": {
     "model_module": "@jupyter-widgets/controls",
     "model_name": "ButtonStyleModel",
     "state": {
      "_model_module": "@jupyter-widgets/controls",
      "_model_module_version": "1.5.0",
      "_model_name": "ButtonStyleModel",
      "_view_count": null,
      "_view_module": "@jupyter-widgets/base",
      "_view_module_version": "1.2.0",
      "_view_name": "StyleView",
      "button_color": null,
      "font_weight": ""
     }
    },
    "4b591f01a85849aaae3e9153b5df0b86": {
     "model_module": "@jupyter-widgets/controls",
     "model_name": "VBoxModel",
     "state": {
      "_dom_classes": [],
      "_model_module": "@jupyter-widgets/controls",
      "_model_module_version": "1.5.0",
      "_model_name": "VBoxModel",
      "_view_count": null,
      "_view_module": "@jupyter-widgets/controls",
      "_view_module_version": "1.5.0",
      "_view_name": "VBoxView",
      "box_style": "",
      "children": [
       "IPY_MODEL_17a4c5677477424ca0a1dfa70b2ee7df",
       "IPY_MODEL_e9477a3098d94a42a2c76376f6f2f255",
       "IPY_MODEL_824bc9a49de9495683be889a3e8fbf89",
       "IPY_MODEL_b3079d2123dd49f0bd203501a5f35459"
      ],
      "layout": "IPY_MODEL_9197a173892e4c2f8a1e3ac828988794"
     }
    },
    "63f3847934674be29849242a20900e13": {
     "model_module": "@jupyter-widgets/controls",
     "model_name": "DescriptionStyleModel",
     "state": {
      "_model_module": "@jupyter-widgets/controls",
      "_model_module_version": "1.5.0",
      "_model_name": "DescriptionStyleModel",
      "_view_count": null,
      "_view_module": "@jupyter-widgets/base",
      "_view_module_version": "1.2.0",
      "_view_name": "StyleView",
      "description_width": ""
     }
    },
    "6a35db343d5c440fbfa065d7d2da9dc3": {
     "model_module": "@jupyter-widgets/controls",
     "model_name": "DescriptionStyleModel",
     "state": {
      "_model_module": "@jupyter-widgets/controls",
      "_model_module_version": "1.5.0",
      "_model_name": "DescriptionStyleModel",
      "_view_count": null,
      "_view_module": "@jupyter-widgets/base",
      "_view_module_version": "1.2.0",
      "_view_name": "StyleView",
      "description_width": ""
     }
    },
    "824bc9a49de9495683be889a3e8fbf89": {
     "model_module": "@jupyter-widgets/controls",
     "model_name": "TextModel",
     "state": {
      "_dom_classes": [],
      "_model_module": "@jupyter-widgets/controls",
      "_model_module_version": "1.5.0",
      "_model_name": "TextModel",
      "_view_count": null,
      "_view_module": "@jupyter-widgets/controls",
      "_view_module_version": "1.5.0",
      "_view_name": "TextView",
      "continuous_update": true,
      "description": "Stock Ticker",
      "description_tooltip": null,
      "disabled": false,
      "layout": "IPY_MODEL_f9468813f6294c9fa1759aeab39ebbfc",
      "placeholder": "​",
      "style": "IPY_MODEL_63f3847934674be29849242a20900e13",
      "value": "TSLA"
     }
    },
    "9197a173892e4c2f8a1e3ac828988794": {
     "model_module": "@jupyter-widgets/base",
     "model_name": "LayoutModel",
     "state": {
      "_model_module": "@jupyter-widgets/base",
      "_model_module_version": "1.2.0",
      "_model_name": "LayoutModel",
      "_view_count": null,
      "_view_module": "@jupyter-widgets/base",
      "_view_module_version": "1.2.0",
      "_view_name": "LayoutView",
      "align_content": null,
      "align_items": null,
      "align_self": null,
      "border": null,
      "bottom": null,
      "display": null,
      "flex": null,
      "flex_flow": null,
      "grid_area": null,
      "grid_auto_columns": null,
      "grid_auto_flow": null,
      "grid_auto_rows": null,
      "grid_column": null,
      "grid_gap": null,
      "grid_row": null,
      "grid_template_areas": null,
      "grid_template_columns": null,
      "grid_template_rows": null,
      "height": null,
      "justify_content": null,
      "justify_items": null,
      "left": null,
      "margin": null,
      "max_height": null,
      "max_width": null,
      "min_height": null,
      "min_width": null,
      "object_fit": null,
      "object_position": null,
      "order": null,
      "overflow": null,
      "overflow_x": null,
      "overflow_y": null,
      "padding": null,
      "right": null,
      "top": null,
      "visibility": null,
      "width": null
     }
    },
    "9250ec381d2545f4b8bc1dc2ea8a42ef": {
     "model_module": "@jupyter-widgets/controls",
     "model_name": "DescriptionStyleModel",
     "state": {
      "_model_module": "@jupyter-widgets/controls",
      "_model_module_version": "1.5.0",
      "_model_name": "DescriptionStyleModel",
      "_view_count": null,
      "_view_module": "@jupyter-widgets/base",
      "_view_module_version": "1.2.0",
      "_view_name": "StyleView",
      "description_width": ""
     }
    },
    "b3079d2123dd49f0bd203501a5f35459": {
     "model_module": "@jupyter-widgets/controls",
     "model_name": "ButtonModel",
     "state": {
      "_dom_classes": [],
      "_model_module": "@jupyter-widgets/controls",
      "_model_module_version": "1.5.0",
      "_model_name": "ButtonModel",
      "_view_count": null,
      "_view_module": "@jupyter-widgets/controls",
      "_view_module_version": "1.5.0",
      "_view_name": "ButtonView",
      "button_style": "",
      "description": "Start",
      "disabled": false,
      "icon": "",
      "layout": "IPY_MODEL_26e56eff01cb4730aa02de37b449a6d3",
      "style": "IPY_MODEL_3fb9556609c9483282970704459f0c15",
      "tooltip": ""
     }
    },
    "e9477a3098d94a42a2c76376f6f2f255": {
     "model_module": "@jupyter-widgets/controls",
     "model_name": "DatePickerModel",
     "state": {
      "_dom_classes": [],
      "_model_module": "@jupyter-widgets/controls",
      "_model_module_version": "1.5.0",
      "_model_name": "DatePickerModel",
      "_view_count": null,
      "_view_module": "@jupyter-widgets/controls",
      "_view_module_version": "1.5.0",
      "_view_name": "DatePickerView",
      "description": "End Date",
      "description_tooltip": null,
      "disabled": false,
      "layout": "IPY_MODEL_fcc886afe4ae46b9a7d4b1f8337f9d02",
      "style": "IPY_MODEL_6a35db343d5c440fbfa065d7d2da9dc3",
      "value": null
     }
    },
    "f9468813f6294c9fa1759aeab39ebbfc": {
     "model_module": "@jupyter-widgets/base",
     "model_name": "LayoutModel",
     "state": {
      "_model_module": "@jupyter-widgets/base",
      "_model_module_version": "1.2.0",
      "_model_name": "LayoutModel",
      "_view_count": null,
      "_view_module": "@jupyter-widgets/base",
      "_view_module_version": "1.2.0",
      "_view_name": "LayoutView",
      "align_content": null,
      "align_items": null,
      "align_self": null,
      "border": null,
      "bottom": null,
      "display": null,
      "flex": null,
      "flex_flow": null,
      "grid_area": null,
      "grid_auto_columns": null,
      "grid_auto_flow": null,
      "grid_auto_rows": null,
      "grid_column": null,
      "grid_gap": null,
      "grid_row": null,
      "grid_template_areas": null,
      "grid_template_columns": null,
      "grid_template_rows": null,
      "height": null,
      "justify_content": null,
      "justify_items": null,
      "left": null,
      "margin": null,
      "max_height": null,
      "max_width": null,
      "min_height": null,
      "min_width": null,
      "object_fit": null,
      "object_position": null,
      "order": null,
      "overflow": null,
      "overflow_x": null,
      "overflow_y": null,
      "padding": null,
      "right": null,
      "top": null,
      "visibility": null,
      "width": null
     }
    },
    "fcc886afe4ae46b9a7d4b1f8337f9d02": {
     "model_module": "@jupyter-widgets/base",
     "model_name": "LayoutModel",
     "state": {
      "_model_module": "@jupyter-widgets/base",
      "_model_module_version": "1.2.0",
      "_model_name": "LayoutModel",
      "_view_count": null,
      "_view_module": "@jupyter-widgets/base",
      "_view_module_version": "1.2.0",
      "_view_name": "LayoutView",
      "align_content": null,
      "align_items": null,
      "align_self": null,
      "border": null,
      "bottom": null,
      "display": null,
      "flex": null,
      "flex_flow": null,
      "grid_area": null,
      "grid_auto_columns": null,
      "grid_auto_flow": null,
      "grid_auto_rows": null,
      "grid_column": null,
      "grid_gap": null,
      "grid_row": null,
      "grid_template_areas": null,
      "grid_template_columns": null,
      "grid_template_rows": null,
      "height": null,
      "justify_content": null,
      "justify_items": null,
      "left": null,
      "margin": null,
      "max_height": null,
      "max_width": null,
      "min_height": null,
      "min_width": null,
      "object_fit": null,
      "object_position": null,
      "order": null,
      "overflow": null,
      "overflow_x": null,
      "overflow_y": null,
      "padding": null,
      "right": null,
      "top": null,
      "visibility": null,
      "width": null
     }
    }
   }
  }
 },
 "nbformat": 4,
 "nbformat_minor": 1
}
